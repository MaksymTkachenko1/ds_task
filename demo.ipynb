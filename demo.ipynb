{
 "cells": [
  {
   "cell_type": "markdown",
   "id": "932309ab",
   "metadata": {},
   "source": [
    "# Task 1 (MNIST + OOP) and Task 2 (Animal Classification + Pretrained NER)\n",
    "\n",
    "This single notebook demonstrates:\n",
    "1. **Task 1**: Implement MNIST classification using an OOP approach:\n",
    "   - An interface (`MnistClassifierInterface`) with 2 methods: `train` and `predict`\n",
    "   - Three classes implementing this interface: Random Forest, Feed-Forward NN, CNN\n",
    "   - A wrapper class `MnistClassifier` that takes `algorithm='rf'|'nn'|'cnn'`\n",
    "2. **Task 2**:\n",
    "   - A CNN trained on 10 animal classes from CIFAR-100.\n",
    "   - A **pretrained** NER model from Hugging Face (`dslim/bert-base-NER`) to detect any of those animals in text.\n",
    "   - An end-to-end pipeline that returns a boolean `True` or `False` indicating whether the text's mentioned animal matches the image's predicted class.\n"
   ]
  },
  {
   "cell_type": "markdown",
   "id": "bb917a8a",
   "metadata": {},
   "source": [
    "I'm choosing to use a Jupyter notebook because Docker and VS Code environments have caused persistent dependency and configuration issues, leading to long build times and debugging headaches. Given the one-week deadline, Jupyter offers a ready-to-use, minimal-overhead environment that lets me focus on coding and quickly iterate without the extra complexity."
   ]
  },
  {
   "cell_type": "markdown",
   "id": "bb3ce559",
   "metadata": {},
   "source": [
    "## 1. Task 1: MNIST + OOP"
   ]
  },
  {
   "cell_type": "code",
   "execution_count": 1,
   "id": "dc6a82ee",
   "metadata": {},
   "outputs": [
    {
     "name": "stderr",
     "output_type": "stream",
     "text": [
      "c:\\Users\\maksy\\AppData\\Local\\Programs\\Python\\Python312\\Lib\\site-packages\\tqdm\\auto.py:21: TqdmWarning: IProgress not found. Please update jupyter and ipywidgets. See https://ipywidgets.readthedocs.io/en/stable/user_install.html\n",
      "  from .autonotebook import tqdm as notebook_tqdm\n",
      "Seed set to 42\n"
     ]
    },
    {
     "data": {
      "text/plain": [
       "42"
      ]
     },
     "execution_count": 1,
     "metadata": {},
     "output_type": "execute_result"
    }
   ],
   "source": [
    "import torch\n",
    "import torchvision\n",
    "import torchvision.transforms as transforms\n",
    "import torch.nn as nn\n",
    "import torch.optim as optim\n",
    "from torch.utils.data import DataLoader, random_split\n",
    "from abc import ABC, abstractmethod\n",
    "from sklearn.ensemble import RandomForestClassifier\n",
    "from sklearn.metrics import accuracy_score\n",
    "import numpy as np\n",
    "import pytorch_lightning as pl\n",
    "\n",
    "pl.seed_everything(42)  # For reproducibility"
   ]
  },
  {
   "cell_type": "markdown",
   "id": "b5cf8148",
   "metadata": {},
   "source": [
    "### 1.1. Define the Interface"
   ]
  },
  {
   "cell_type": "code",
   "execution_count": 2,
   "id": "e7dccc50",
   "metadata": {},
   "outputs": [],
   "source": [
    "class MnistClassifierInterface(ABC):\n",
    "    \"\"\"\n",
    "    Interface requiring two abstract methods:\n",
    "     - train(train_data, train_targets)\n",
    "     - predict(test_data)\n",
    "    \"\"\"\n",
    "    @abstractmethod\n",
    "    def train(self, train_data, train_targets):\n",
    "        pass\n",
    "\n",
    "    @abstractmethod\n",
    "    def predict(self, test_data):\n",
    "        pass"
   ]
  },
  {
   "cell_type": "markdown",
   "id": "b2e96f58",
   "metadata": {},
   "source": [
    "### 1.2. Random Forest Classifier"
   ]
  },
  {
   "cell_type": "code",
   "execution_count": 3,
   "id": "cd2a4237",
   "metadata": {},
   "outputs": [],
   "source": [
    "class RfMnistClassifier(MnistClassifierInterface):\n",
    "    def __init__(self, n_estimators=100):\n",
    "        self.model = RandomForestClassifier(n_estimators=n_estimators, random_state=42)\n",
    "\n",
    "    def train(self, train_data, train_targets):\n",
    "        self.model.fit(train_data, train_targets)\n",
    "\n",
    "    def predict(self, test_data):\n",
    "        return self.model.predict(test_data)"
   ]
  },
  {
   "cell_type": "markdown",
   "id": "29e44bbb",
   "metadata": {},
   "source": [
    "### 1.3. Feed-Forward NN"
   ]
  },
  {
   "cell_type": "code",
   "execution_count": 4,
   "id": "c54be868",
   "metadata": {},
   "outputs": [],
   "source": [
    "class FeedForwardMnist(nn.Module):\n",
    "    def __init__(self):\n",
    "        super().__init__()\n",
    "        self.layers = nn.Sequential(\n",
    "            nn.Linear(784, 256),\n",
    "            nn.ReLU(),\n",
    "            nn.Linear(256, 10)\n",
    "        )\n",
    "\n",
    "    def forward(self, x):\n",
    "        return self.layers(x)\n",
    "\n",
    "class NnMnistClassifier(MnistClassifierInterface):\n",
    "    def __init__(self, epochs=5, lr=1e-3, batch_size=64):\n",
    "        self.epochs = epochs\n",
    "        self.lr = lr\n",
    "        self.batch_size = batch_size\n",
    "        self.model = FeedForwardMnist()\n",
    "\n",
    "    def train(self, train_data, train_targets):\n",
    "        X = torch.from_numpy(train_data).float()\n",
    "        y = torch.from_numpy(train_targets).long()\n",
    "        dataset = torch.utils.data.TensorDataset(X, y)\n",
    "        loader = torch.utils.data.DataLoader(dataset, batch_size=self.batch_size, shuffle=True)\n",
    "        optimizer = optim.Adam(self.model.parameters(), lr=self.lr)\n",
    "        criterion = nn.CrossEntropyLoss()\n",
    "\n",
    "        self.model.train()\n",
    "        for _ in range(self.epochs):\n",
    "            for batch_x, batch_y in loader:\n",
    "                optimizer.zero_grad()\n",
    "                out = self.model(batch_x)\n",
    "                loss = criterion(out, batch_y)\n",
    "                loss.backward()\n",
    "                optimizer.step()\n",
    "\n",
    "    def predict(self, test_data):\n",
    "        X = torch.from_numpy(test_data).float()\n",
    "        self.model.eval()\n",
    "        with torch.no_grad():\n",
    "            out = self.model(X)\n",
    "            preds = torch.argmax(out, dim=1)\n",
    "        return preds.numpy()"
   ]
  },
  {
   "cell_type": "markdown",
   "id": "354bfdb2",
   "metadata": {},
   "source": [
    "### 1.4. CNN Classifier"
   ]
  },
  {
   "cell_type": "code",
   "execution_count": 5,
   "id": "313a7e36",
   "metadata": {},
   "outputs": [],
   "source": [
    "class ConvMnistNet(nn.Module):\n",
    "    def __init__(self):\n",
    "        super().__init__()\n",
    "        self.conv_layers = nn.Sequential(\n",
    "            nn.Conv2d(1, 16, kernel_size=3, padding=1),\n",
    "            nn.ReLU(),\n",
    "            nn.MaxPool2d(2, 2),\n",
    "            nn.Conv2d(16, 32, kernel_size=3, padding=1),\n",
    "            nn.ReLU(),\n",
    "            nn.MaxPool2d(2, 2)\n",
    "        )\n",
    "        self.fc_layers = nn.Sequential(\n",
    "            nn.Flatten(),\n",
    "            nn.Linear(32*7*7, 128),\n",
    "            nn.ReLU(),\n",
    "            nn.Linear(128, 10)\n",
    "        )\n",
    "\n",
    "    def forward(self, x):\n",
    "        x = self.conv_layers(x)\n",
    "        x = self.fc_layers(x)\n",
    "        return x\n",
    "\n",
    "class CnnMnistClassifier(MnistClassifierInterface):\n",
    "    def __init__(self, epochs=5, lr=1e-3, batch_size=64):\n",
    "        self.epochs = epochs\n",
    "        self.lr = lr\n",
    "        self.batch_size = batch_size\n",
    "        self.model = ConvMnistNet()\n",
    "\n",
    "    def train(self, train_data, train_targets):\n",
    "        X = torch.from_numpy(train_data).float().view(-1,1,28,28)\n",
    "        y = torch.from_numpy(train_targets).long()\n",
    "        dataset = torch.utils.data.TensorDataset(X, y)\n",
    "        loader = torch.utils.data.DataLoader(dataset, batch_size=self.batch_size, shuffle=True)\n",
    "        optimizer = optim.Adam(self.model.parameters(), lr=self.lr)\n",
    "        criterion = nn.CrossEntropyLoss()\n",
    "\n",
    "        self.model.train()\n",
    "        for _ in range(self.epochs):\n",
    "            for batch_x, batch_y in loader:\n",
    "                optimizer.zero_grad()\n",
    "                out = self.model(batch_x)\n",
    "                loss = criterion(out, batch_y)\n",
    "                loss.backward()\n",
    "                optimizer.step()\n",
    "\n",
    "    def predict(self, test_data):\n",
    "        X = torch.from_numpy(test_data).float().view(-1,1,28,28)\n",
    "        self.model.eval()\n",
    "        with torch.no_grad():\n",
    "            out = self.model(X)\n",
    "            preds = torch.argmax(out, dim=1)\n",
    "        return preds.numpy()"
   ]
  },
  {
   "cell_type": "markdown",
   "id": "3a262efc",
   "metadata": {},
   "source": [
    "### 1.5. Wrapper Class"
   ]
  },
  {
   "cell_type": "code",
   "execution_count": 6,
   "id": "eaa4befd",
   "metadata": {},
   "outputs": [],
   "source": [
    "class MnistClassifier:\n",
    "    def __init__(self, algorithm='rf'):\n",
    "        if algorithm == 'rf':\n",
    "            self.impl = RfMnistClassifier()\n",
    "        elif algorithm == 'nn':\n",
    "            self.impl = NnMnistClassifier()\n",
    "        elif algorithm == 'cnn':\n",
    "            self.impl = CnnMnistClassifier()\n",
    "        else:\n",
    "            raise ValueError(f\"Unsupported algorithm: {algorithm}\")\n",
    "\n",
    "    def train(self, train_data, train_targets):\n",
    "        self.impl.train(train_data, train_targets)\n",
    "\n",
    "    def predict(self, test_data):\n",
    "        return self.impl.predict(test_data)"
   ]
  },
  {
   "cell_type": "markdown",
   "id": "a280dc2a",
   "metadata": {},
   "source": [
    "### 1.6. Demo on MNIST"
   ]
  },
  {
   "cell_type": "code",
   "execution_count": 7,
   "id": "6ad6ca31",
   "metadata": {
    "scrolled": true
   },
   "outputs": [
    {
     "name": "stdout",
     "output_type": "stream",
     "text": [
      "Random Forest Accuracy: 0.9443\n",
      "Feed-Forward NN Accuracy: 0.9261\n",
      "CNN Accuracy: 0.9628\n"
     ]
    }
   ],
   "source": [
    "# Load MNIST and do a small training demo\n",
    "mnist_transform = transforms.Compose([\n",
    "    transforms.ToTensor()\n",
    "])\n",
    "\n",
    "train_mnist = torchvision.datasets.MNIST(root='./mnist_data', train=True, download=True, transform=mnist_transform)\n",
    "test_mnist = torchvision.datasets.MNIST(root='./mnist_data', train=False, download=True, transform=mnist_transform)\n",
    "\n",
    "# We'll just take 5k from the training set to keep it quick\n",
    "train_small, _ = random_split(train_mnist, [5000, len(train_mnist)-5000])\n",
    "\n",
    "def dataset_to_numpy(dataset):\n",
    "    images, labels = [], []\n",
    "    for img, label in dataset:\n",
    "        # img is a PIL Image or Tensor of shape (1,28,28)\n",
    "        # We'll convert to numpy shape (28,28)\n",
    "        np_img = np.array(img).astype(np.float32)\n",
    "        images.append(np_img)\n",
    "        labels.append(label)\n",
    "    images = np.array(images)\n",
    "    labels = np.array(labels)\n",
    "    return images, labels\n",
    "\n",
    "# Convert\n",
    "X_train_mnist, y_train_mnist = dataset_to_numpy(train_small)\n",
    "X_test_mnist, y_test_mnist = dataset_to_numpy(test_mnist)\n",
    "\n",
    "# Flatten for rf/nn\n",
    "X_train_flat = X_train_mnist.reshape(-1, 28*28)\n",
    "X_test_flat = X_test_mnist.reshape(-1, 28*28)\n",
    "\n",
    "# 1) Random Forest\n",
    "rf_model = MnistClassifier(algorithm='rf')\n",
    "rf_model.train(X_train_flat, y_train_mnist)\n",
    "rf_preds = rf_model.predict(X_test_flat)\n",
    "rf_acc = accuracy_score(y_test_mnist, rf_preds)\n",
    "print(\"Random Forest Accuracy:\", rf_acc)\n",
    "\n",
    "# 2) Feed-forward NN\n",
    "nn_model = MnistClassifier(algorithm='nn')\n",
    "nn_model.train(X_train_flat, y_train_mnist)\n",
    "nn_preds = nn_model.predict(X_test_flat)\n",
    "nn_acc = accuracy_score(y_test_mnist, nn_preds)\n",
    "print(\"Feed-Forward NN Accuracy:\", nn_acc)\n",
    "\n",
    "# 3) CNN\n",
    "cnn_model = MnistClassifier(algorithm='cnn')\n",
    "cnn_model.train(X_train_flat, y_train_mnist)\n",
    "cnn_preds = cnn_model.predict(X_test_flat)\n",
    "cnn_acc = accuracy_score(y_test_mnist, cnn_preds)\n",
    "print(\"CNN Accuracy:\", cnn_acc)"
   ]
  },
  {
   "cell_type": "markdown",
   "id": "6aaafde0",
   "metadata": {},
   "source": [
    "# 2. Task 2: Animal Classification + Pretrained NER\n",
    "\n",
    "We will:\n",
    "1. Train a CNN on **10 animal classes** from CIFAR-100.\n",
    "2. Use a **pretrained** Hugging Face NER model to detect known animals in text.\n",
    "3. Build a pipeline that checks if the recognized animals in text match the CNN’s predicted animal on the image.\n"
   ]
  },
  {
   "cell_type": "markdown",
   "id": "75bdd629",
   "metadata": {},
   "source": [
    "### 2.1. Filter CIFAR-100 to 10 Animal Classes"
   ]
  },
  {
   "cell_type": "code",
   "execution_count": 8,
   "id": "d007387e",
   "metadata": {
    "scrolled": true
   },
   "outputs": [
    {
     "name": "stdout",
     "output_type": "stream",
     "text": [
      "Train data shape: torch.Size([5000, 3, 32, 32])\n",
      "Train targets shape: torch.Size([5000])\n",
      "Test data shape:  torch.Size([1000, 3, 32, 32])\n",
      "Test targets shape: torch.Size([1000])\n"
     ]
    }
   ],
   "source": [
    "import torchvision.transforms as T\n",
    "from torchvision.datasets import CIFAR100\n",
    "from torch.utils.data import Subset\n",
    "\n",
    "transform_train = T.Compose([\n",
    "    T.ToTensor()\n",
    "])\n",
    "transform_val = T.Compose([\n",
    "    T.ToTensor()\n",
    "])\n",
    "\n",
    "train_full = CIFAR100(root='data', train=True, download=True, transform=transform_train)\n",
    "test_full = CIFAR100(root='data', train=False, download=True, transform=transform_val)\n",
    "\n",
    "selected_classes = [\n",
    "    'aquarium_fish', 'bear', 'beaver', 'camel', 'dolphin',\n",
    "    'otter', 'seal', 'tiger', 'whale', 'leopard'\n",
    "]\n",
    "\n",
    "sel_idx_train = [i for i, (_, lab) in enumerate(train_full)\n",
    "                 if train_full.classes[lab] in selected_classes]\n",
    "sel_idx_test  = [i for i, (_, lab) in enumerate(test_full)\n",
    "                 if test_full.classes[lab] in selected_classes]\n",
    "\n",
    "train_subset = Subset(train_full, sel_idx_train)\n",
    "test_subset  = Subset(test_full, sel_idx_test)\n",
    "\n",
    "def subset_to_tensors(subset):\n",
    "    data_list, targ_list = [], []\n",
    "    for img, lab in subset:\n",
    "        data_list.append(img)\n",
    "        targ_list.append(lab)\n",
    "    data_tensor = torch.stack(data_list)\n",
    "    target_tensor = torch.tensor(targ_list)\n",
    "    return data_tensor, target_tensor\n",
    "\n",
    "data_train_anim, targets_train_anim = subset_to_tensors(train_subset)\n",
    "data_test_anim, targets_test_anim   = subset_to_tensors(test_subset)\n",
    "\n",
    "print(\"Train data shape:\", data_train_anim.shape)\n",
    "print(\"Train targets shape:\", targets_train_anim.shape)\n",
    "print(\"Test data shape: \", data_test_anim.shape)\n",
    "print(\"Test targets shape:\", targets_test_anim.shape)"
   ]
  },
  {
   "cell_type": "markdown",
   "id": "83b73b51",
   "metadata": {},
   "source": [
    "### 2.2. Train the Animal CNN"
   ]
  },
  {
   "cell_type": "code",
   "execution_count": 9,
   "id": "a616391e",
   "metadata": {},
   "outputs": [],
   "source": [
    "import pytorch_lightning as pl\n",
    "import torch.nn.functional as F\n",
    "\n",
    "class AnimalCNN(pl.LightningModule):\n",
    "    def __init__(self, num_classes=10, lr=1e-3):\n",
    "        super().__init__()\n",
    "        self.lr = lr\n",
    "        self.conv_layers = nn.Sequential(\n",
    "            nn.Conv2d(3, 32, 3, padding=1),\n",
    "            nn.BatchNorm2d(32),\n",
    "            nn.ReLU(),\n",
    "            nn.MaxPool2d(2, 2),\n",
    "            nn.Conv2d(32, 64, 3, padding=1),\n",
    "            nn.BatchNorm2d(64),\n",
    "            nn.ReLU(),\n",
    "            nn.MaxPool2d(2, 2),\n",
    "            nn.Conv2d(64, 128, 3, padding=1),\n",
    "            nn.BatchNorm2d(128),\n",
    "            nn.ReLU(),\n",
    "            nn.MaxPool2d(2, 2)\n",
    "        )\n",
    "        self.fc_layers = nn.Sequential(\n",
    "            nn.Flatten(),\n",
    "            nn.Linear(128*4*4, 128),\n",
    "            nn.ReLU(),\n",
    "            nn.Dropout(0.5),\n",
    "            nn.Linear(128, num_classes)\n",
    "        )\n",
    "        self.loss_fn = nn.CrossEntropyLoss()\n",
    "\n",
    "    def forward(self, x):\n",
    "        x = self.conv_layers(x)\n",
    "        x = self.fc_layers(x)\n",
    "        return x\n",
    "\n",
    "    def training_step(self, batch, batch_idx):\n",
    "        x, y = batch\n",
    "        logits = self(x)\n",
    "        loss = self.loss_fn(logits, y)\n",
    "        acc = (torch.argmax(logits, dim=1) == y).float().mean()\n",
    "        self.log(\"train_loss\", loss)\n",
    "        self.log(\"train_acc\", acc)\n",
    "        return loss\n",
    "\n",
    "    def validation_step(self, batch, batch_idx):\n",
    "        x, y = batch\n",
    "        logits = self(x)\n",
    "        loss = self.loss_fn(logits, y)\n",
    "        acc = (torch.argmax(logits, dim=1) == y).float().mean()\n",
    "        self.log(\"val_loss\", loss, prog_bar=True)\n",
    "        self.log(\"val_acc\", acc, prog_bar=True)\n",
    "\n",
    "    def configure_optimizers(self):\n",
    "        return optim.Adam(self.parameters(), lr=self.lr)"
   ]
  },
  {
   "cell_type": "code",
   "execution_count": null,
   "id": "46206e7b",
   "metadata": {},
   "outputs": [
    {
     "name": "stderr",
     "output_type": "stream",
     "text": [
      "GPU available: False, used: False\n",
      "TPU available: False, using: 0 TPU cores\n",
      "HPU available: False, using: 0 HPUs\n",
      "\n",
      "  | Name        | Type             | Params | Mode \n",
      "---------------------------------------------------------\n",
      "0 | conv_layers | Sequential       | 93.7 K | train\n",
      "1 | fc_layers   | Sequential       | 263 K  | train\n",
      "2 | loss_fn     | CrossEntropyLoss | 0      | train\n",
      "---------------------------------------------------------\n",
      "357 K     Trainable params\n",
      "0         Non-trainable params\n",
      "357 K     Total params\n",
      "1.429     Total estimated model params size (MB)\n",
      "20        Modules in train mode\n",
      "0         Modules in eval mode\n"
     ]
    },
    {
     "name": "stdout",
     "output_type": "stream",
     "text": [
      "Epoch 29: 100%|██████████| 157/157 [00:04<00:00, 36.43it/s, v_num=26, val_loss=1.130, val_acc=0.595]"
     ]
    },
    {
     "name": "stderr",
     "output_type": "stream",
     "text": [
      "`Trainer.fit` stopped: `max_epochs=30` reached.\n"
     ]
    },
    {
     "name": "stdout",
     "output_type": "stream",
     "text": [
      "Epoch 29: 100%|██████████| 157/157 [00:04<00:00, 36.29it/s, v_num=26, val_loss=1.130, val_acc=0.595]\n"
     ]
    }
   ],
   "source": [
    "selected_classes = [\n",
    "    'aquarium_fish', 'bear', 'beaver', 'camel', 'dolphin',\n",
    "    'otter', 'seal', 'tiger', 'whale', 'leopard'\n",
    "]\n",
    "\n",
    "# Map each of those 10 animal class names to an index in [0..9]\n",
    "class_to_idx = {cls_name: i for i, cls_name in enumerate(selected_classes)}\n",
    "\n",
    "def subset_to_tensors_with_remap(subset):\n",
    "    \"\"\"\n",
    "    Returns (data_tensor, target_tensor)\n",
    "    Remaps original CIFAR-100 label to [0..9].\n",
    "    \"\"\"\n",
    "    data_list, targ_list = [], []\n",
    "    for img, orig_label in subset:\n",
    "        # Get the class name from CIFAR-100\n",
    "        cls_name = subset.dataset.classes[orig_label]\n",
    "        # Convert that name to a 0..9 index\n",
    "        remapped_label = class_to_idx[cls_name]\n",
    "        data_list.append(img)\n",
    "        targ_list.append(remapped_label)\n",
    "\n",
    "    data_tensor = torch.stack(data_list)\n",
    "    target_tensor = torch.tensor(targ_list)\n",
    "    return data_tensor, target_tensor\n",
    "\n",
    "data_train_anim, targets_train_anim = subset_to_tensors_with_remap(train_subset)\n",
    "data_test_anim,  targets_test_anim  = subset_to_tensors_with_remap(test_subset)\n",
    "\n",
    "from torch.utils.data import TensorDataset, DataLoader\n",
    "\n",
    "train_dataset_anim = TensorDataset(data_train_anim, targets_train_anim)\n",
    "test_dataset_anim  = TensorDataset(data_test_anim,  targets_test_anim)\n",
    "\n",
    "train_loader_anim = DataLoader(train_dataset_anim, batch_size=32, shuffle=True, num_workers=0)\n",
    "val_loader_anim   = DataLoader(test_dataset_anim,  batch_size=32, shuffle=False, num_workers=0)\n",
    "\n",
    "animal_model = AnimalCNN(num_classes=10, lr=0.0001)\n",
    "trainer = pl.Trainer(max_epochs=30)\n",
    "\n",
    "if __name__ == '__main__':\n",
    "    trainer.fit(animal_model, train_loader_anim, val_loader_anim)"
   ]
  },
  {
   "cell_type": "markdown",
   "id": "69a24641",
   "metadata": {},
   "source": [
    "### 2.3. Pretrained NER Model \n",
    "We’ll use a Hugging Face pipeline (e.g. `dslim/bert-base-NER`). We'll then do a simple check:\n",
    "- The pipeline returns a list of entities with their predicted labels (`PER`, `LOC`, `ORG`, `MISC`, etc.).\n",
    "- We only care about text that matches one of our `animals_of_interest`.\n"
   ]
  },
  {
   "cell_type": "code",
   "execution_count": 20,
   "id": "a775df46",
   "metadata": {
    "scrolled": true
   },
   "outputs": [
    {
     "name": "stderr",
     "output_type": "stream",
     "text": [
      "\n",
      "[notice] A new release of pip is available: 24.3.1 -> 25.0.1\n",
      "[notice] To update, run: python.exe -m pip install --upgrade pip\n"
     ]
    }
   ],
   "source": [
    "!pip install transformers --quiet"
   ]
  },
  {
   "cell_type": "code",
   "execution_count": 24,
   "id": "28596c74",
   "metadata": {
    "scrolled": true
   },
   "outputs": [
    {
     "name": "stderr",
     "output_type": "stream",
     "text": [
      "Some weights of the model checkpoint at dslim/bert-base-NER were not used when initializing BertForTokenClassification: ['bert.pooler.dense.bias', 'bert.pooler.dense.weight']\n",
      "- This IS expected if you are initializing BertForTokenClassification from the checkpoint of a model trained on another task or with another architecture (e.g. initializing a BertForSequenceClassification model from a BertForPreTraining model).\n",
      "- This IS NOT expected if you are initializing BertForTokenClassification from the checkpoint of a model that you expect to be exactly identical (initializing a BertForSequenceClassification model from a BertForSequenceClassification model).\n",
      "Device set to use cpu\n"
     ]
    }
   ],
   "source": [
    "from transformers import pipeline\n",
    "\n",
    "# We'll pick 'dslim/bert-base-NER' as an example.\n",
    "ner_pipeline = pipeline(\n",
    "    task=\"ner\",\n",
    "    model=\"dslim/bert-base-NER\",\n",
    "    tokenizer=\"dslim/bert-base-NER\",\n",
    "    aggregation_strategy=\"simple\"  # merges subwords\n",
    ")\n",
    "\n",
    "animals_of_interest = {\n",
    "    \"aquarium_fish\", \"bear\", \"beaver\", \"camel\", \"dolphin\",\n",
    "    \"otter\", \"seal\", \"tiger\", \"whale\", \"leopard\"\n",
    "}\n",
    "\n",
    "def recognize_animals_in_text(text):\n",
    "    \"\"\"\n",
    "    Runs the HF NER pipeline on the given text.\n",
    "    Returns a list of recognized animals found in `animals_of_interest`.\n",
    "    \"\"\"\n",
    "    entities = ner_pipeline(text)\n",
    "    recognized = set()\n",
    "\n",
    "    for ent in entities:\n",
    "        entity_str = ent['word'].lower().strip(\",.!?\")\n",
    "        if entity_str in animals_of_interest:\n",
    "            recognized.add(entity_str)\n",
    "    return list(recognized)"
   ]
  },
  {
   "cell_type": "markdown",
   "id": "a7883a18",
   "metadata": {},
   "source": [
    "### 2.4. Inference Pipeline: text + image => boolean"
   ]
  },
  {
   "cell_type": "code",
   "execution_count": 143,
   "id": "49d64a3f",
   "metadata": {},
   "outputs": [],
   "source": [
    "from PIL import Image\n",
    "import numpy as np\n",
    "\n",
    "def pipeline_inference(text, pil_image, ner_pipe, animals_of_interest, animal_model, class_names):\n",
    "    \"\"\"\n",
    "    1. Run NER on text => recognized set of animals.\n",
    "    2. Classify image => predicted animal.\n",
    "    3. Return True if predicted animal is in recognized set; otherwise False.\n",
    "    \"\"\"\n",
    "    recognized = recognize_animals_in_text(text)\n",
    "\n",
    "    # Prepare image for CNN (CIFAR is 32x32)\n",
    "    pil_for_inference = pil_image.resize((32, 32), Image.BICUBIC)\n",
    "    transform = T.ToTensor()\n",
    "    img_tensor = transform(pil_for_inference).unsqueeze(0)\n",
    "\n",
    "    # Predict\n",
    "    animal_model.eval()\n",
    "    with torch.no_grad():\n",
    "        logits = animal_model(img_tensor)\n",
    "        pred_idx = torch.argmax(logits, dim=1).item()\n",
    "    predicted_animal = class_names[pred_idx]\n",
    "\n",
    "    if len(recognized) == 0:\n",
    "        return False\n",
    "    if predicted_animal in recognized:\n",
    "        return True\n",
    "    return False"
   ]
  },
  {
   "cell_type": "markdown",
   "id": "3bccce11",
   "metadata": {},
   "source": [
    "### 2.5. Demo\n",
    "We'll randomly pick an animal from `selected_classes`, find an example image in the test subset, then run the pipeline with text referencing that animal."
   ]
  },
  {
   "cell_type": "code",
   "execution_count": 145,
   "id": "1c1d9e77",
   "metadata": {
    "scrolled": true
   },
   "outputs": [
    {
     "name": "stdout",
     "output_type": "stream",
     "text": [
      "Randomly selected animal: bear\n"
     ]
    },
    {
     "data": {
      "image/jpeg": "[encoded data removed]",
      "image/png": "[encoded data removed]",
      "text/plain": [
       "<PIL.Image.Image image mode=RGB size=128x128>"
      ]
     },
     "metadata": {},
     "output_type": "display_data"
    },
    {
     "name": "stdout",
     "output_type": "stream",
     "text": [
      "Text: There is a bear in this picture\n",
      "Pipeline result = False\n",
      "Ground truth class = bear\n"
     ]
    }
   ],
   "source": [
    "import random\n",
    "from IPython.display import display\n",
    "\n",
    "def find_animal_in_subset(animal_name, subset, classes):\n",
    "    for i in range(len(subset)):\n",
    "        img_tensor, lab = subset[i]\n",
    "        if classes[lab] == animal_name:\n",
    "            return img_tensor, lab\n",
    "    return None, None\n",
    "\n",
    "rand_animal = random.choice(selected_classes)\n",
    "print(\"Randomly selected animal:\", rand_animal)\n",
    "\n",
    "img_tsr, lab_found = find_animal_in_subset(rand_animal, test_subset, test_full.classes)\n",
    "if img_tsr is not None:\n",
    "    arr = img_tsr.permute(1,2,0).numpy()\n",
    "    arr = (arr*255).astype(np.uint8)\n",
    "    pil_img = Image.fromarray(arr)\n",
    "\n",
    "    # Display a bigger version\n",
    "    pil_disp = pil_img.resize((128,128), Image.BICUBIC)\n",
    "    display(pil_disp)\n",
    "\n",
    "    text_example = f\"There is a {rand_animal} in this picture\"\n",
    "    result = pipeline_inference(\n",
    "        text_example,\n",
    "        pil_img,\n",
    "        ner_pipeline,\n",
    "        animals_of_interest,\n",
    "        animal_model,\n",
    "        train_full.classes\n",
    "    )\n",
    "    print(\"Text:\", text_example)\n",
    "    print(\"Pipeline result =\", result)\n",
    "    print(\"Ground truth class =\", test_full.classes[lab_found])\n",
    "else:\n",
    "    print(f\"No {rand_animal} found in test subset.\")"
   ]
  },
  {
   "cell_type": "markdown",
   "id": "caa3cc82",
   "metadata": {},
   "source": [
    " Our current NER model simply isn’t catching  animal terms, so it’s not a good fit for this wildlife-focused task. We should consider using a domain-specific transformer or fine-tuning an existing model that’s been trained on animal-related text to ensure it can reliably recognize the animals we care about."
   ]
  },
  {
   "cell_type": "markdown",
   "id": "ab918d3f",
   "metadata": {},
   "source": [
    "## Conclusion\n",
    "We've shown:\n",
    "1. **Task 1**: An OOP approach for MNIST classification with three models (RF, NN, CNN).\n",
    "2. **Task 2**: A CNN for 10 animals on CIFAR-100, plus a **pretrained** NER from Hugging Face to detect any mention of those animals in text.\n",
    "3. An end-to-end pipeline that compares recognized text animals to the CNN's predicted class."
   ]
  }
 ],
 "metadata": {
  "kernelspec": {
   "display_name": "Python 3",
   "language": "python",
   "name": "python3"
  },
  "language_info": {
   "name": "python"
  }
 },
 "nbformat": 4,
 "nbformat_minor": 5
}
